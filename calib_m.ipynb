{
 "cells": [
  {
   "cell_type": "markdown",
   "metadata": {},
   "source": [
    "# Camera Calibration\n",
    "\n",
    "\n"
   ]
  },
  {
   "cell_type": "code",
   "execution_count": 2,
   "metadata": {
    "collapsed": true
   },
   "outputs": [],
   "source": [
    "import os\n",
    "import subprocess\n",
    "import numpy as np\n",
    "import imageio"
   ]
  },
  {
   "cell_type": "markdown",
   "metadata": {},
   "source": [
    "## Let's start with a camera calibration matrix available on the web.. so we can compare results..\n"
   ]
  },
  {
   "cell_type": "markdown",
   "metadata": {},
   "source": [
    "Downloading images and datapoints files"
   ]
  },
  {
   "cell_type": "code",
   "execution_count": 3,
   "metadata": {
    "collapsed": false
   },
   "outputs": [
    {
     "name": "stdout",
     "output_type": "stream",
     "text": [
      "./data/data1.txt\n",
      "./data/data2.txt\n",
      "./data/data3.txt\n",
      "./data/data4.txt\n",
      "./data/data5.txt\n"
     ]
    }
   ],
   "source": [
    "url_images = \"http://research.microsoft.com/en-us/um/people/zhang/Calib/Calibration/CalibIm{}.gif\"\n",
    "url_data_pts = \"http://research.microsoft.com/en-us/um/people/zhang/Calib/Calibration/data{}.txt\"\n",
    "\n",
    "\n",
    "data_path = './data/'\n",
    "data = {}\n",
    "images_filename = []\n",
    "pts_fname = []\n",
    "for num in range(1, 6):\n",
    "    image_url = url_images.format(num)\n",
    "    pts_url = url_data_pts.format(num)\n",
    "    image_fname = os.path.join(data_path, os.path.basename(image_url))\n",
    "    pts_fname = os.path.join(data_path, os.path.basename(pts_url))\n",
    "    print(pts_fname)\n",
    "    p = subprocess.Popen(['wget', image_url, '-O', image_fname])  # using wget simpler than urllib\n",
    "    p.wait()\n",
    "    \n",
    "    p = subprocess.Popen(['wget', pts_url, '-O', pts_fname])  # using wget simpler than urllib\n",
    "    p.wait()\n",
    "    \n",
    "    \n",
    "    data[num] = {}\n",
    "    data[num]['image_fname'] = image_fname\n",
    "    data[num]['pts_fname'] = pts_fname\n",
    "    \n",
    "    \n",
    "    pts = np.genfromtxt(data[num]['pts_fname'])\n",
    "    pts = pts.reshape((256, 2))\n",
    "    data[num]['pts'] = pts\n",
    "    \n",
    "\n",
    "    "
   ]
  },
  {
   "cell_type": "markdown",
   "metadata": {},
   "source": [
    "now we have a dictionnary with each image file associated to data points in  a textfile\n",
    "data"
   ]
  },
  {
   "cell_type": "code",
   "execution_count": 1,
   "metadata": {
    "collapsed": false,
    "scrolled": true
   },
   "outputs": [
    {
     "ename": "NameError",
     "evalue": "name 'data' is not defined",
     "output_type": "error",
     "traceback": [
      "\u001b[1;31m---------------------------------------------------------------------------\u001b[0m",
      "\u001b[1;31mNameError\u001b[0m                                 Traceback (most recent call last)",
      "\u001b[1;32m<ipython-input-1-6137cde4893c>\u001b[0m in \u001b[0;36m<module>\u001b[1;34m()\u001b[0m\n\u001b[1;32m----> 1\u001b[1;33m \u001b[0mdata\u001b[0m\u001b[1;33m\u001b[0m\u001b[0m\n\u001b[0m",
      "\u001b[1;31mNameError\u001b[0m: name 'data' is not defined"
     ]
    }
   ],
   "source": [
    "data"
   ]
  },
  {
   "cell_type": "markdown",
   "metadata": {},
   "source": [
    "# Camera calibration equations:\n",
    "\n",
    "A 2D point in image coordinate (augmented to 3rd):  $m = [u, v, 1]^T $. \n",
    "A 3D point $M = [X, Y, Z, 1]^T$\n",
    "\n",
    "\n",
    "$$\n",
    "s * m = A [R \\quad t] M\n",
    "$$ \n",
    "\n",
    "\n",
    "with:\n",
    "$ [R \\quad t] = [ R \\, |\\, \\boldsymbol{t}] = \n",
    "\\left[ \\begin{array}{ccc|c} \n",
    "r_{1,1} & r_{1,2} & r_{1,3} & t_1 \\\\\n",
    "r_{2,1} & r_{2,2} & r_{2,3} & t_2 \\\\\n",
    "r_{3,1} & r_{3,2} & r_{3,3} & t_3 \\\\\n",
    "\\end{array} \\right]$\n",
    "\n",
    "s a scale factor.\n",
    "A the intrinsic camera matrix:\n",
    "\n",
    "$$ A = \\begin{bmatrix}\\alpha & \\gamma & u_0 \\\\ 0 & \\beta & v_0  \\\\ 0 & 0 & 1\n",
    "\\end{bmatrix}\n",
    "$$ \n",
    "\n",
    "We assume the object plane to be on Z = 0.\n",
    "\n",
    "So we have:\n",
    "\n",
    "$$ s * [u, v, 1]^T = A * [r_1 \\quad r_2 \\quad r_3 \\quad t] * \\begin{bmatrix}X\\\\Y\\\\0\\\\1\\end{bmatrix}\n",
    "$$\n",
    "\n",
    "$$\n",
    "= A * [r_1 \\quad r_2  \\quad t] * \\begin{bmatrix}X\\\\Y\\\\Z\\end{bmatrix}\n",
    "$$\n",
    "\n",
    "source: microsoftPaper\n"
   ]
  },
  {
   "cell_type": "markdown",
   "metadata": {},
   "source": [
    "\n",
    "Constraints: r_1 and r_2 are orthonormal\n",
    "\n",
    "$$ h_1^T * A^{-T} * A^-1 * h_2 = 0$$\n",
    "\n",
    "$$ h_1^T * A^{-T} * A^-1 * \n",
    "\n"
   ]
  },
  {
   "cell_type": "markdown",
   "metadata": {},
   "source": [
    "we want to minimize :\n",
    "\n",
    "\n",
    "$ \\sum_{i}(m_i - \\hat{m_i})^T  \\Lambda^{-1}_{m_i} ({m_i - \\hat{m_i}}) $\n",
    "\n",
    "with $\\Lambda_{m_i} = \\sigma^2 * I $\n",
    "\n",
    "and $\\hat{m_i} =  (1 / ( h_3^T M_i)) * h_1^T M_i / (h_2^T Mi))$"
   ]
  },
  {
   "cell_type": "markdown",
   "metadata": {},
   "source": [
    "Moui en fait plus simple.. \n",
    "\n",
    "on va minimiser : \n",
    "$ \\sum_{i=1}^n \\sum_{j=1}^m  \\lvert\\lvert ( m_{ij} - \\hat{m_{ij}}) \\rvert\\rvert^2 $"
   ]
  },
  {
   "cell_type": "code",
   "execution_count": 5,
   "metadata": {
    "collapsed": false
   },
   "outputs": [],
   "source": []
  },
  {
   "cell_type": "code",
   "execution_count": null,
   "metadata": {
    "collapsed": true
   },
   "outputs": [],
   "source": [
    "from mystic.models import AbstractFunction\n",
    "class Rosenbrock(AbstractFunction):\n",
    "    def __init__(self, ndim=2): # is n-dimensional (n=2 in ref)\n",
    "        AbstractFunction.__init__(self, ndim=ndim)\n",
    "        return\n",
    "\n",
    "    def function(self, coeffs):\n",
    "        \"\"\"evaluates an N-dimensional Rosenbrock saddle for a list of coeffs\n",
    "f(x) = \\sum_(i=0)^(N-2) 100*(x_(i+1) - x_(i)^(2))^(2) + (1 - x_(i))^(2)\n",
    "Inspect with mystic_model_plotter using::\n",
    "    mystic.models.rosen -b \"-3:3:.1, -1:5:.1, 1\" -d -x 1\n",
    "The minimum is f(x)=0.0 at x_i=1.0 for all i\"\"\"\n",
    "        x = [1]*2 # ensure that there are 2 coefficients\n",
    "        x[:len(coeffs)]=coeffs\n",
    "        x = asarray(x) #XXX: must be a numpy.array\n",
    "        return numpysum(100.0*(x[1:]-x[:-1]**2.0)**2.0 + (1-x[:-1])**2.0)#,axis=0)"
   ]
  },
  {
   "cell_type": "code",
   "execution_count": 12,
   "metadata": {
    "collapsed": false
   },
   "outputs": [
    {
     "name": "stdout",
     "output_type": "stream",
     "text": [
      "Optimization terminated successfully.\n",
      "         Current function value: 1.689378\n",
      "         Iterations: 121\n",
      "         Function evaluations: 229\n",
      "[ 1.48446709  2.20556484  4.86753823]\n"
     ]
    }
   ],
   "source": [
    "from mystic.solvers import fmin\n",
    "from mystic.models import rosen\n",
    "x0 = [1, 555, 3]\n",
    "%qtconsole\n",
    "solution = fmin(rosen,x0)\n",
    "print(solution)"
   ]
  },
  {
   "cell_type": "markdown",
   "metadata": {},
   "source": [
    "### Model optimization"
   ]
  },
  {
   "cell_type": "code",
   "execution_count": null,
   "metadata": {
    "collapsed": true
   },
   "outputs": [],
   "source": [
    "Model of the camera calibration function"
   ]
  },
  {
   "cell_type": "code",
   "execution_count": 9,
   "metadata": {
    "collapsed": false
   },
   "outputs": [
    {
     "ename": "NameError",
     "evalue": "name 'm' is not defined",
     "output_type": "error",
     "traceback": [
      "\u001b[1;31m---------------------------------------------------------------------------\u001b[0m",
      "\u001b[1;31mNameError\u001b[0m                                 Traceback (most recent call last)",
      "\u001b[1;32m<ipython-input-9-4dc19e847174>\u001b[0m in \u001b[0;36m<module>\u001b[1;34m()\u001b[0m\n\u001b[0;32m     13\u001b[0m \u001b[0mget_ipython\u001b[0m\u001b[1;33m(\u001b[0m\u001b[1;33m)\u001b[0m\u001b[1;33m.\u001b[0m\u001b[0mmagic\u001b[0m\u001b[1;33m(\u001b[0m\u001b[1;34mu'qtconsole'\u001b[0m\u001b[1;33m)\u001b[0m\u001b[1;33m\u001b[0m\u001b[0m\n\u001b[0;32m     14\u001b[0m \u001b[1;33m\u001b[0m\u001b[0m\n\u001b[1;32m---> 15\u001b[1;33m \u001b[0mForwardFactory\u001b[0m \u001b[1;33m=\u001b[0m \u001b[0mForwardPolyFactory\u001b[0m\u001b[1;33m(\u001b[0m\u001b[0mm\u001b[0m\u001b[1;33m)\u001b[0m\u001b[1;33m\u001b[0m\u001b[0m\n\u001b[0m\u001b[0;32m     16\u001b[0m \u001b[1;33m\u001b[0m\u001b[0m\n\u001b[0;32m     17\u001b[0m \u001b[0mF\u001b[0m \u001b[1;33m=\u001b[0m \u001b[0mCostFactory\u001b[0m\u001b[1;33m(\u001b[0m\u001b[1;33m)\u001b[0m\u001b[1;33m\u001b[0m\u001b[0m\n",
      "\u001b[1;31mNameError\u001b[0m: name 'm' is not defined"
     ]
    }
   ],
   "source": [
    "import mystic\n",
    "\n",
    "from mystic.forward_model import CostFactory\n",
    "from numpy import array, sum, poly1d, random\n",
    "import numpy as np\n",
    "\n",
    "# build the forward model\n",
    "def ForwardPolyFactory(coeff):\n",
    "    \"\"\"generate a 1-D polynomial instance from a list of coefficients\"\"\"\n",
    "    from numpy import poly1d\n",
    "    return poly1d(coeff)\n",
    "\n",
    "%qtconsole\n",
    "\n",
    "ForwardFactory = ForwardPolyFactory(m)\n",
    "\n",
    "F = CostFactory()\n",
    "costmetric = lambda x: np.sum(x*x)\n",
    "F.addModel(ForwardFactory, name='pinhole', inputs=3)\n",
    "#costunction = F.getCostFunction(evalpts=pts, )"
   ]
  }
 ],
 "metadata": {
  "kernelspec": {
   "display_name": "Python 2",
   "language": "python",
   "name": "python2"
  },
  "language_info": {
   "codemirror_mode": {
    "name": "ipython",
    "version": 2
   },
   "file_extension": ".py",
   "mimetype": "text/x-python",
   "name": "python",
   "nbconvert_exporter": "python",
   "pygments_lexer": "ipython2",
   "version": "2.7.10"
  }
 },
 "nbformat": 4,
 "nbformat_minor": 0
}
